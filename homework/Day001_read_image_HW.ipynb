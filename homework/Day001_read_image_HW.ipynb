{
 "cells": [
  {
   "cell_type": "markdown",
   "metadata": {},
   "source": [
    "# 作業\n",
    "\n",
    "思考一下我們前面有提到圖片是矩陣，但維度可能會不一樣\n",
    "例如灰階圖只有兩個維度，RGB 彩圖則有 3 個維度\n",
    "\n",
    "假如今天我們把 RGB 3 個維度拆開來看會有甚麼不同的效果呢？"
   ]
  },
  {
   "cell_type": "code",
   "execution_count": 5,
   "metadata": {},
   "outputs": [
    {
     "name": "stdout",
     "output_type": "stream",
     "text": [
      "close\n"
     ]
    }
   ],
   "source": [
    "#顯示灰階及彩色圖片\n",
    "import cv2\n",
    "\n",
    "img_path = r'C:\\Users\\user\\Desktop\\CVDL\\D1\\Part01/lena.png'\n",
    "\n",
    "\n",
    "img = cv2.imread(img_path, cv2.IMREAD_COLOR)\n",
    "\n",
    "\n",
    "img_gray = cv2.imread(img_path, cv2.IMREAD_GRAYSCALE)\n",
    "#分離三原色\n",
    "b, g, r = cv2.split(img)\n",
    "\n",
    "while True:\n",
    "#cv2.imshow('視窗名稱', code內圖片名稱)\n",
    "    cv2.imshow('bgr', img)\n",
    "    \n",
    "    cv2.imshow('gray', img_gray)\n",
    "\n",
    "#當按下某鍵\n",
    "    k = cv2.waitKey(0)\n",
    "#ascii 碼 27 == ESC\n",
    "    if k == 27:\n",
    "        print('close')\n",
    "    \n",
    "        cv2.destroyAllWindows()\n",
    "    \n",
    "        break"
   ]
  },
  {
   "cell_type": "code",
   "execution_count": 4,
   "metadata": {},
   "outputs": [],
   "source": [
    "#拆開三原色\n",
    "import cv2\n",
    "\n",
    "img_path = r'C:\\Users\\user\\Desktop\\CVDL\\D1\\Part01/lena.png'\n",
    "\n",
    "img = cv2.imread(img_path, cv2.IMREAD_COLOR)\n",
    "\n",
    "b, g, r = cv2.split(img)\n",
    "\n",
    "while True:\n",
    "\n",
    "    cv2.imshow(\"Blue\", b)\n",
    "    \n",
    "    cv2.imshow(\"Green\", g)\n",
    "    \n",
    "    cv2.imshow(\"Red\", r)\n",
    "    \n",
    "    cv2.waitKey(0)\n",
    "    \n",
    "    cv2.destroyAllWindows()\n",
    "    \n",
    "    break"
   ]
  }
 ],
 "metadata": {
  "kernelspec": {
   "display_name": "Python 3",
   "language": "python",
   "name": "python3"
  },
  "language_info": {
   "codemirror_mode": {
    "name": "ipython",
    "version": 3
   },
   "file_extension": ".py",
   "mimetype": "text/x-python",
   "name": "python",
   "nbconvert_exporter": "python",
   "pygments_lexer": "ipython3",
   "version": "3.7.4"
  }
 },
 "nbformat": 4,
 "nbformat_minor": 2
}
